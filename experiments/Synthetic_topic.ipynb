{
 "cells": [
  {
   "cell_type": "code",
   "execution_count": 296,
   "metadata": {},
   "outputs": [],
   "source": [
    "import sys\n",
    "sys.path.append(\"../\")\n",
    "from tfMFs.tfCMF import tfCMF\n",
    "# from dataset import create_synthetic_data\n",
    "import numpy as np\n",
    "import pandas as pd\n",
    "from scipy.sparse import csr_matrix\n",
    "import matplotlib.pyplot as plt\n",
    "from sklearn.feature_extraction.text import CountVectorizer"
   ]
  },
  {
   "cell_type": "code",
   "execution_count": 297,
   "metadata": {},
   "outputs": [],
   "source": [
    "from scipy import stats"
   ]
  },
  {
   "cell_type": "markdown",
   "metadata": {},
   "source": [
    "# 文長の生成"
   ]
  },
  {
   "cell_type": "markdown",
   "metadata": {},
   "source": [
    "### Toxic Comment"
   ]
  },
  {
   "cell_type": "code",
   "execution_count": 315,
   "metadata": {},
   "outputs": [
    {
     "data": {
      "image/png": "[encoded data removed]",
      "text/plain": [
       "<Figure size 432x288 with 1 Axes>"
      ]
     },
     "metadata": {
      "needs_background": "light"
     },
     "output_type": "display_data"
    }
   ],
   "source": [
    "df = pd.read_csv(\"/home/ryo_matsui/notebook/mydata/ToxicComment/jigsaw-toxic-comment-train.csv\")\n",
    "vectorizer = CountVectorizer(min_df=0, max_df=np.inf, stop_words=\"english\", binary=True)\n",
    "X_toxic = vectorizer.fit_transform(df.head(10000).comment_text)\n",
    "y_toxic = df.head(10000).toxic.values\n",
    "plt.hist(np.clip(X_toxic.sum(axis=1).A.ravel(), 0,200),bins=20)\n",
    "plt.show()"
   ]
  },
  {
   "cell_type": "code",
   "execution_count": 300,
   "metadata": {},
   "outputs": [
    {
     "data": {
      "text/plain": [
       "(10000, 36074)"
      ]
     },
     "execution_count": 300,
     "metadata": {},
     "output_type": "execute_result"
    }
   ],
   "source": [
    "X.shape"
   ]
  },
  {
   "cell_type": "markdown",
   "metadata": {},
   "source": [
    "### 人工"
   ]
  },
  {
   "cell_type": "code",
   "execution_count": 292,
   "metadata": {},
   "outputs": [
    {
     "data": {
      "image/png": "[encoded data removed]",
      "text/plain": [
       "<Figure size 432x288 with 1 Axes>"
      ]
     },
     "metadata": {
      "needs_background": "light"
     },
     "output_type": "display_data"
    }
   ],
   "source": [
    "lam = stats.gamma.rvs(1.5,scale=15, size=36000)\n",
    "length = stats.poisson.rvs(lam)\n",
    "plt.hist(length,bins=50)\n",
    "plt.xlim(-10,200)\n",
    "plt.show()"
   ]
  },
  {
   "cell_type": "markdown",
   "metadata": {},
   "source": [
    "# 単語 / トピックの生成"
   ]
  },
  {
   "cell_type": "code",
   "execution_count": 311,
   "metadata": {},
   "outputs": [
    {
     "data": {
      "text/plain": [
       "array([[0, 0, 0, ..., 0, 0, 0],\n",
       "       [0, 0, 0, ..., 0, 0, 0],\n",
       "       [0, 0, 0, ..., 0, 0, 0],\n",
       "       ...,\n",
       "       [0, 0, 0, ..., 0, 0, 0],\n",
       "       [0, 0, 0, ..., 0, 0, 0],\n",
       "       [0, 0, 0, ..., 0, 0, 0]])"
      ]
     },
     "execution_count": 311,
     "metadata": {},
     "output_type": "execute_result"
    }
   ],
   "source": [
    "n_docs_pos = 1000\n",
    "n_docs_neg = 9000\n",
    "n_words = 36000\n",
    "K = 10\n",
    "lam = 10\n",
    "r = 3\n",
    "\n",
    "alpha_pos = np.random.rand(K)\n",
    "alpha_neg = np.random.rand(K)\n",
    "beta = np.random.rand(n_words)\n",
    "\n",
    "theta_pos = stats.dirichlet.rvs(alpha_pos, size=n_docs_pos) # n_docs_pos × K\n",
    "theta_neg = stats.dirichlet.rvs(alpha_neg, size=n_docs_neg) # n_docs_neg × K\n",
    "\n",
    "lam_pos = stats.gamma.rvs(1.5,scale=15, size=n_docs_pos)\n",
    "lam_neg = stats.gamma.rvs(1.5,scale=15, size=n_docs_neg)\n",
    "\n",
    "length_pos = stats.poisson.rvs(lam_pos) # n_docs_pos\n",
    "length_pos = stats.poisson.rvs(lam_neg) # n_docs_neg\n",
    "\n",
    "z_pos = np.array([stats.multinomial.rvs(n=length_pos[i],p=theta_pos[i]) for i in range(n_docs_pos)]) # n_docs_pos × K\n",
    "z_neg = np.array([stats.multinomial.rvs(n=length_neg[i],p=theta_neg[i]) for i in range(n_docs_neg)]) # n_docs_pos × K\n",
    "z = np.r_[z_pos, z_neg]\n",
    "\n",
    "phi = stats.dirichlet.rvs(beta, size=K) # K × n_words\n",
    "X = np.array([\n",
    "    np.array([stats.multinomial.rvs(n=z[i,k], p=phi[k]).tolist() for k in range(K)]).sum(axis=0)\n",
    "    for i in range(n_docs_pos + n_docs_neg)\n",
    "])"
   ]
  },
  {
   "cell_type": "code",
   "execution_count": 351,
   "metadata": {},
   "outputs": [],
   "source": [
    "def calc_sparsity(X):\n",
    "    if X.__class__ == np.ndarray:\n",
    "        sparsity = csr_matrix(X).nnz / X.shape[0] / X.shape[1]\n",
    "    else:\n",
    "        sparsity = X.nnz / X.shape[0] / X.shape[1]\n",
    "    return sparsity"
   ]
  },
  {
   "cell_type": "code",
   "execution_count": 327,
   "metadata": {},
   "outputs": [],
   "source": [
    "def clip_by_document_frequency(X, min_df, max_df):\n",
    "    \n",
    "    if X.__class__ == np.ndarray:\n",
    "        df = X.sum(axis=0)\n",
    "    else:\n",
    "        df = X.sum(axis=0).A[0]\n",
    "        \n",
    "    lower_bound = df >= min_df\n",
    "    upper_bound = df <= max_df\n",
    "    \n",
    "    X_cliped = X[:, lower_bound & upper_bound]\n",
    "    return X_cliped"
   ]
  },
  {
   "cell_type": "markdown",
   "metadata": {},
   "source": [
    "### clip 前のスパース性 / 頻度分布"
   ]
  },
  {
   "cell_type": "markdown",
   "metadata": {},
   "source": [
    "#### - toxic"
   ]
  },
  {
   "cell_type": "code",
   "execution_count": 353,
   "metadata": {},
   "outputs": [
    {
     "data": {
      "text/plain": [
       "0.0007108416033708489"
      ]
     },
     "execution_count": 353,
     "metadata": {},
     "output_type": "execute_result"
    }
   ],
   "source": [
    "calc_sparsity(X_toxic)"
   ]
  },
  {
   "cell_type": "code",
   "execution_count": 350,
   "metadata": {},
   "outputs": [
    {
     "data": {
      "image/png": "[encoded data removed]",
      "text/plain": [
       "<Figure size 432x288 with 1 Axes>"
      ]
     },
     "metadata": {
      "needs_background": "light"
     },
     "output_type": "display_data"
    }
   ],
   "source": [
    "plt.hist(np.clip(X_toxic.sum(axis=0).A[0], 0,50),bins=10)\n",
    "plt.show()"
   ]
  },
  {
   "cell_type": "markdown",
   "metadata": {},
   "source": [
    "#### - synthetic"
   ]
  },
  {
   "cell_type": "code",
   "execution_count": 352,
   "metadata": {},
   "outputs": [
    {
     "data": {
      "text/plain": [
       "0.0005415638888888889"
      ]
     },
     "execution_count": 352,
     "metadata": {},
     "output_type": "execute_result"
    }
   ],
   "source": [
    "calc_sparsity(X)"
   ]
  },
  {
   "cell_type": "code",
   "execution_count": 346,
   "metadata": {},
   "outputs": [
    {
     "data": {
      "image/png": "[encoded data removed]",
      "text/plain": [
       "<Figure size 432x288 with 1 Axes>"
      ]
     },
     "metadata": {
      "needs_background": "light"
     },
     "output_type": "display_data"
    }
   ],
   "source": [
    "plt.hist(X.sum(axis=0),bins=10)\n",
    "plt.show()"
   ]
  },
  {
   "cell_type": "markdown",
   "metadata": {},
   "source": [
    "### clip後のスパース性 / 頻度分布"
   ]
  },
  {
   "cell_type": "markdown",
   "metadata": {},
   "source": [
    "#### - toxic"
   ]
  },
  {
   "cell_type": "code",
   "execution_count": 338,
   "metadata": {},
   "outputs": [],
   "source": [
    "X_toxic_clip = clip_by_document_frequency(X_toxic, 3, 10000)"
   ]
  },
  {
   "cell_type": "code",
   "execution_count": 354,
   "metadata": {},
   "outputs": [
    {
     "data": {
      "text/plain": [
       "(10000, 9927)"
      ]
     },
     "execution_count": 354,
     "metadata": {},
     "output_type": "execute_result"
    }
   ],
   "source": [
    "X_toxic_clip.shape"
   ]
  },
  {
   "cell_type": "code",
   "execution_count": 355,
   "metadata": {},
   "outputs": [
    {
     "data": {
      "text/plain": [
       "0.0022754104966253652"
      ]
     },
     "execution_count": 355,
     "metadata": {},
     "output_type": "execute_result"
    }
   ],
   "source": [
    "calc_sparsity(X_toxic_clip)"
   ]
  },
  {
   "cell_type": "code",
   "execution_count": 357,
   "metadata": {},
   "outputs": [
    {
     "data": {
      "image/png": "[encoded data removed]",
      "text/plain": [
       "<Figure size 432x288 with 1 Axes>"
      ]
     },
     "metadata": {
      "needs_background": "light"
     },
     "output_type": "display_data"
    }
   ],
   "source": [
    "plt.hist(np.clip(X_toxic_clip.sum(axis=0).A[0], 0,50),bins=10)\n",
    "plt.show()"
   ]
  },
  {
   "cell_type": "markdown",
   "metadata": {},
   "source": [
    "#### - synthetic"
   ]
  },
  {
   "cell_type": "code",
   "execution_count": 337,
   "metadata": {},
   "outputs": [],
   "source": [
    "X_clip = clip_by_document_frequency(X, 8, 10000)"
   ]
  },
  {
   "cell_type": "code",
   "execution_count": 358,
   "metadata": {},
   "outputs": [
    {
     "data": {
      "text/plain": [
       "(10000, 10242)"
      ]
     },
     "execution_count": 358,
     "metadata": {},
     "output_type": "execute_result"
    }
   ],
   "source": [
    "X_clip.shape"
   ]
  },
  {
   "cell_type": "code",
   "execution_count": null,
   "metadata": {},
   "outputs": [],
   "source": []
  }
 ],
 "metadata": {
  "kernelspec": {
   "display_name": "matsui_env",
   "language": "python",
   "name": "matsui_env"
  },
  "language_info": {
   "codemirror_mode": {
    "name": "ipython",
    "version": 3
   },
   "file_extension": ".py",
   "mimetype": "text/x-python",
   "name": "python",
   "nbconvert_exporter": "python",
   "pygments_lexer": "ipython3",
   "version": "3.7.7"
  }
 },
 "nbformat": 4,
 "nbformat_minor": 4
}
