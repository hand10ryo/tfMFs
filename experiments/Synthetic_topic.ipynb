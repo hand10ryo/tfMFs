{
 "cells": [
  {
   "cell_type": "code",
   "execution_count": 371,
   "metadata": {},
   "outputs": [],
   "source": [
    "import sys\n",
    "sys.path.append(\"../\")\n",
    "from tfMFs.tfCMF import tfCMF\n",
    "# from dataset import create_synthetic_data\n",
    "import numpy as np\n",
    "import pandas as pd\n",
    "from scipy.sparse import csr_matrix\n",
    "import matplotlib.pyplot as plt\n",
    "from sklearn.feature_extraction.text import CountVectorizer\n",
    "from tqdm import tqdm"
   ]
  },
  {
   "cell_type": "code",
   "execution_count": 297,
   "metadata": {},
   "outputs": [],
   "source": [
    "from scipy import stats"
   ]
  },
  {
   "cell_type": "markdown",
   "metadata": {},
   "source": [
    "# 文長の生成"
   ]
  },
  {
   "cell_type": "markdown",
   "metadata": {},
   "source": [
    "### Toxic Comment"
   ]
  },
  {
   "cell_type": "code",
   "execution_count": 315,
   "metadata": {},
   "outputs": [
    {
     "data": {
      "image/png": "[encoded data removed]",
      "text/plain": [
       "<Figure size 432x288 with 1 Axes>"
      ]
     },
     "metadata": {
      "needs_background": "light"
     },
     "output_type": "display_data"
    }
   ],
   "source": [
    "df = pd.read_csv(\"/home/ryo_matsui/notebook/mydata/ToxicComment/jigsaw-toxic-comment-train.csv\")\n",
    "vectorizer = CountVectorizer(min_df=0, max_df=np.inf, stop_words=\"english\", binary=True)\n",
    "X_toxic = vectorizer.fit_transform(df.head(10000).comment_text)\n",
    "y_toxic = df.head(10000).toxic.values\n",
    "plt.hist(np.clip(X_toxic.sum(axis=1).A.ravel(), 0,200),bins=20)\n",
    "plt.show()"
   ]
  },
  {
   "cell_type": "code",
   "execution_count": 300,
   "metadata": {},
   "outputs": [
    {
     "data": {
      "text/plain": [
       "(10000, 36074)"
      ]
     },
     "execution_count": 300,
     "metadata": {},
     "output_type": "execute_result"
    }
   ],
   "source": [
    "X.shape"
   ]
  },
  {
   "cell_type": "markdown",
   "metadata": {},
   "source": [
    "### Synthetic"
   ]
  },
  {
   "cell_type": "code",
   "execution_count": 292,
   "metadata": {},
   "outputs": [
    {
     "data": {
      "image/png": "[encoded data removed]",
      "text/plain": [
       "<Figure size 432x288 with 1 Axes>"
      ]
     },
     "metadata": {
      "needs_background": "light"
     },
     "output_type": "display_data"
    }
   ],
   "source": [
    "lam = stats.gamma.rvs(1.5,scale=15, size=36000)\n",
    "length = stats.poisson.rvs(lam)\n",
    "plt.hist(length,bins=50)\n",
    "plt.xlim(-10,200)\n",
    "plt.show()"
   ]
  },
  {
   "cell_type": "markdown",
   "metadata": {},
   "source": [
    "# 単語 / トピックの生成"
   ]
  },
  {
   "cell_type": "code",
   "execution_count": 377,
   "metadata": {},
   "outputs": [],
   "source": [
    "def generate_synthetic_dataset(n_docs_pos:int = 1000, n_docs_neg:int = 9000, n_words:int = 36000, \n",
    "                               K:int = 10, shape:float = 1.5, scale:float = 15, alpha_max=1, beta_max=1):\n",
    "    \n",
    "    alpha_pos = np.random.rand(K) * alpha_max\n",
    "    alpha_neg = np.random.rand(K) * alpha_max\n",
    "    beta = np.random.rand(n_words) * beta_max\n",
    "\n",
    "    theta_pos = stats.dirichlet.rvs(alpha_pos, size=n_docs_pos) # n_docs_pos × K\n",
    "    theta_neg = stats.dirichlet.rvs(alpha_neg, size=n_docs_neg) # n_docs_neg × K\n",
    "\n",
    "    lam_pos = stats.gamma.rvs(shape, scale=scale, size=n_docs_pos)\n",
    "    lam_neg = stats.gamma.rvs(shape, scale=scale, size=n_docs_neg)\n",
    "\n",
    "    length_pos = stats.poisson.rvs(lam_pos) # n_docs_pos\n",
    "    length_pos = stats.poisson.rvs(lam_neg) # n_docs_neg\n",
    "\n",
    "    z_pos = np.array([stats.multinomial.rvs(n=length_pos[i],p=theta_pos[i]) for i in range(n_docs_pos)]) # n_docs_pos × K\n",
    "    z_neg = np.array([stats.multinomial.rvs(n=length_neg[i],p=theta_neg[i]) for i in range(n_docs_neg)]) # n_docs_pos × K\n",
    "    z = np.r_[z_pos, z_neg]\n",
    "\n",
    "    phi = stats.dirichlet.rvs(beta, size=K) # K × n_words\n",
    "    X = np.array([\n",
    "        np.array([stats.multinomial.rvs(n=z[i,k], p=phi[k]).tolist() for k in range(K)]).sum(axis=0)\n",
    "        for i in tqdm(range(n_docs_pos + n_docs_neg))\n",
    "    ])\n",
    "    y = np.r_[np.ones(n_docs_pos), np.zeros(n_docs_neg)]\n",
    "    \n",
    "    return X, y"
   ]
  },
  {
   "cell_type": "markdown",
   "metadata": {},
   "source": [
    "### utility"
   ]
  },
  {
   "cell_type": "code",
   "execution_count": 351,
   "metadata": {},
   "outputs": [],
   "source": [
    "def calc_sparsity(X):\n",
    "    if X.__class__ == np.ndarray:\n",
    "        sparsity = csr_matrix(X).nnz / X.shape[0] / X.shape[1]\n",
    "    else:\n",
    "        sparsity = X.nnz / X.shape[0] / X.shape[1]\n",
    "    return sparsity"
   ]
  },
  {
   "cell_type": "code",
   "execution_count": 327,
   "metadata": {},
   "outputs": [],
   "source": [
    "def clip_by_document_frequency(X, min_df, max_df):\n",
    "    \n",
    "    if X.__class__ == np.ndarray:\n",
    "        df = X.sum(axis=0)\n",
    "    else:\n",
    "        df = X.sum(axis=0).A[0]\n",
    "        \n",
    "    lower_bound = df >= min_df\n",
    "    upper_bound = df <= max_df\n",
    "    \n",
    "    X_cliped = X[:, lower_bound & upper_bound]\n",
    "    return X_cliped"
   ]
  },
  {
   "cell_type": "markdown",
   "metadata": {},
   "source": [
    "## clip 前のスパース性 / 頻度分布"
   ]
  },
  {
   "cell_type": "markdown",
   "metadata": {},
   "source": [
    "### - toxic"
   ]
  },
  {
   "cell_type": "code",
   "execution_count": 353,
   "metadata": {},
   "outputs": [
    {
     "data": {
      "text/plain": [
       "0.0007108416033708489"
      ]
     },
     "execution_count": 353,
     "metadata": {},
     "output_type": "execute_result"
    }
   ],
   "source": [
    "calc_sparsity(X_toxic)"
   ]
  },
  {
   "cell_type": "code",
   "execution_count": 350,
   "metadata": {},
   "outputs": [
    {
     "data": {
      "image/png": "[encoded data removed]",
      "text/plain": [
       "<Figure size 432x288 with 1 Axes>"
      ]
     },
     "metadata": {
      "needs_background": "light"
     },
     "output_type": "display_data"
    }
   ],
   "source": [
    "plt.hist(np.clip(X_toxic.sum(axis=0).A[0], 0,50),bins=10)\n",
    "plt.show()"
   ]
  },
  {
   "cell_type": "markdown",
   "metadata": {},
   "source": [
    "### - synthetic"
   ]
  },
  {
   "cell_type": "code",
   "execution_count": 378,
   "metadata": {},
   "outputs": [
    {
     "name": "stderr",
     "output_type": "stream",
     "text": [
      "100%|██████████| 10000/10000 [08:07<00:00, 20.53it/s]\n"
     ]
    }
   ],
   "source": [
    "X_2, y_2 = generate_synthetic_dataset(\n",
    "    n_docs_pos = 1000, \n",
    "    n_docs_neg= 9000, \n",
    "    n_words = 36000, \n",
    "    K = 10, \n",
    "    shape = 1.5, \n",
    "    scale = 15, \n",
    "    alpha_max=2, \n",
    "    beta_max=1\n",
    ")"
   ]
  },
  {
   "cell_type": "code",
   "execution_count": 379,
   "metadata": {},
   "outputs": [
    {
     "data": {
      "text/plain": [
       "0.0005452194444444445"
      ]
     },
     "execution_count": 379,
     "metadata": {},
     "output_type": "execute_result"
    }
   ],
   "source": [
    "calc_sparsity(X)"
   ]
  },
  {
   "cell_type": "code",
   "execution_count": 382,
   "metadata": {},
   "outputs": [
    {
     "data": {
      "image/png": "[encoded data removed]",
      "text/plain": [
       "<Figure size 432x288 with 1 Axes>"
      ]
     },
     "metadata": {
      "needs_background": "light"
     },
     "output_type": "display_data"
    }
   ],
   "source": [
    "plt.hist(X.sum(axis=0),bins=10)\n",
    "plt.show()"
   ]
  },
  {
   "cell_type": "markdown",
   "metadata": {},
   "source": [
    "## clip後のスパース性 / 頻度分布"
   ]
  },
  {
   "cell_type": "markdown",
   "metadata": {},
   "source": [
    "### - toxic"
   ]
  },
  {
   "cell_type": "code",
   "execution_count": 362,
   "metadata": {},
   "outputs": [],
   "source": [
    "X_toxic_clip = clip_by_document_frequency(X_toxic, 3, 50)"
   ]
  },
  {
   "cell_type": "code",
   "execution_count": 363,
   "metadata": {},
   "outputs": [
    {
     "data": {
      "text/plain": [
       "(10000, 9045)"
      ]
     },
     "execution_count": 363,
     "metadata": {},
     "output_type": "execute_result"
    }
   ],
   "source": [
    "X_toxic_clip.shape"
   ]
  },
  {
   "cell_type": "code",
   "execution_count": 364,
   "metadata": {},
   "outputs": [
    {
     "data": {
      "text/plain": [
       "0.0010234162520729685"
      ]
     },
     "execution_count": 364,
     "metadata": {},
     "output_type": "execute_result"
    }
   ],
   "source": [
    "calc_sparsity(X_toxic_clip)"
   ]
  },
  {
   "cell_type": "code",
   "execution_count": 365,
   "metadata": {},
   "outputs": [
    {
     "data": {
      "image/png": "[encoded data removed]",
      "text/plain": [
       "<Figure size 432x288 with 1 Axes>"
      ]
     },
     "metadata": {
      "needs_background": "light"
     },
     "output_type": "display_data"
    }
   ],
   "source": [
    "plt.hist(np.clip(X_toxic_clip.sum(axis=0).A[0], 0,50),bins=10)\n",
    "plt.show()"
   ]
  },
  {
   "cell_type": "markdown",
   "metadata": {},
   "source": [
    "### - synthetic"
   ]
  },
  {
   "cell_type": "code",
   "execution_count": 366,
   "metadata": {},
   "outputs": [],
   "source": [
    "X_clip = clip_by_document_frequency(X, 8, 50)"
   ]
  },
  {
   "cell_type": "code",
   "execution_count": 367,
   "metadata": {},
   "outputs": [
    {
     "data": {
      "text/plain": [
       "(10000, 10242)"
      ]
     },
     "execution_count": 367,
     "metadata": {},
     "output_type": "execute_result"
    }
   ],
   "source": [
    "X_clip.shape"
   ]
  },
  {
   "cell_type": "code",
   "execution_count": 368,
   "metadata": {},
   "outputs": [
    {
     "data": {
      "text/plain": [
       "0.0011488088264010935"
      ]
     },
     "execution_count": 368,
     "metadata": {},
     "output_type": "execute_result"
    }
   ],
   "source": [
    "calc_sparsity(X_clip)"
   ]
  },
  {
   "cell_type": "code",
   "execution_count": 381,
   "metadata": {},
   "outputs": [
    {
     "data": {
      "image/png": "[encoded data removed]",
      "text/plain": [
       "<Figure size 432x288 with 1 Axes>"
      ]
     },
     "metadata": {
      "needs_background": "light"
     },
     "output_type": "display_data"
    }
   ],
   "source": [
    "plt.hist(np.clip(X_clip.sum(axis=0), 0,50),bins=10)\n",
    "plt.show()"
   ]
  },
  {
   "cell_type": "code",
   "execution_count": null,
   "metadata": {},
   "outputs": [],
   "source": []
  }
 ],
 "metadata": {
  "kernelspec": {
   "display_name": "matsui_env",
   "language": "python",
   "name": "matsui_env"
  },
  "language_info": {
   "codemirror_mode": {
    "name": "ipython",
    "version": 3
   },
   "file_extension": ".py",
   "mimetype": "text/x-python",
   "name": "python",
   "nbconvert_exporter": "python",
   "pygments_lexer": "ipython3",
   "version": "3.7.7"
  }
 },
 "nbformat": 4,
 "nbformat_minor": 4
}
