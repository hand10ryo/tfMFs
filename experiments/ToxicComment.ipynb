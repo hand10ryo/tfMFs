{
 "cells": [
  {
   "cell_type": "code",
   "execution_count": 4,
   "metadata": {},
   "outputs": [],
   "source": [
    "import sys\n",
    "sys.path.append(\"../\")\n",
    "from tfMFs.tfCMF import tfCMF\n",
    "from dataset import create_synthetic_data\n",
    "import numpy as np\n",
    "from scipy.sparse import csr_matrix\n",
    "import matplotlib.pyplot as plt\n",
    "import pandas as pd\n",
    "from sklearn.feature_extraction.text import CountVectorizer"
   ]
  },
  {
   "cell_type": "code",
   "execution_count": 5,
   "metadata": {},
   "outputs": [],
   "source": [
    "df = pd.read_csv(\"/home/ryo_matsui/notebook/mydata/ToxicComment/jigsaw-toxic-comment-train.csv\")"
   ]
  },
  {
   "cell_type": "code",
   "execution_count": 6,
   "metadata": {},
   "outputs": [],
   "source": [
    "vectorizer = CountVectorizer(min_df=3, max_df=0.9, stop_words=\"english\", binary=True)\n",
    "X = vectorizer.fit_transform(df.head(10000).comment_text)\n",
    "y = df.head(10000).toxic.values"
   ]
  },
  {
   "cell_type": "code",
   "execution_count": 7,
   "metadata": {},
   "outputs": [],
   "source": [
    "train_data = X.A\n",
    "test_data = X.A\n",
    "y = y[:,np.newaxis]"
   ]
  },
  {
   "cell_type": "code",
   "execution_count": 8,
   "metadata": {},
   "outputs": [
    {
     "name": "stdout",
     "output_type": "stream",
     "text": [
      "[Info] At time-step 0, valid data loss is -4879.04443359375\n",
      "[Info] At time-step 10, valid data loss is -5421.19287109375\n",
      "[Info] At time-step 20, valid data loss is -5642.50634765625\n",
      "[Info] At time-step 30, valid data loss is -5770.3583984375\n",
      "[Info] At time-step 40, valid data loss is -5863.18359375\n",
      "[Info] At time-step 50, valid data loss is -5939.77734375\n",
      "[Info] At time-step 60, valid data loss is -6007.19384765625\n",
      "[Info] At time-step 70, valid data loss is -6067.95166015625\n",
      "[Info] At time-step 80, valid data loss is -6123.6552734375\n",
      "[Info] At time-step 90, valid data loss is -6175.96923828125\n"
     ]
    }
   ],
   "source": [
    "cmf = tfCMF(y, alpha=0.7, d_hidden=10, lamda=1)\n",
    "U, V, Z, train_loss_SGD, _ = cmf.train(train_data, test_data, optim_steps=100, verbose=10, early_stopping=5, lr=0.001, optimizer=\"SGD\")"
   ]
  },
  {
   "cell_type": "code",
   "execution_count": 9,
   "metadata": {},
   "outputs": [
    {
     "name": "stdout",
     "output_type": "stream",
     "text": [
      "[Info] At time-step 0, valid data loss is -4879.04443359375\n",
      "[Info] At time-step 10, valid data loss is -5205.236328125\n",
      "[Info] At time-step 20, valid data loss is -5354.626953125\n",
      "[Info] At time-step 30, valid data loss is -5432.31103515625\n",
      "[Info] At time-step 40, valid data loss is -5475.7470703125\n",
      "[Info] At time-step 50, valid data loss is -5502.0263671875\n",
      "[Info] At time-step 60, valid data loss is -5519.49755859375\n",
      "[Info] At time-step 70, valid data loss is -5532.51416015625\n",
      "[Info] At time-step 80, valid data loss is -5543.26123046875\n",
      "[Info] At time-step 90, valid data loss is -5552.9033203125\n"
     ]
    }
   ],
   "source": [
    "cmf = tfCMF(y, alpha=0.7, d_hidden=10, lamda=1)\n",
    "U, V, Z, train_loss_Adam, _ = cmf.train(train_data, test_data, optim_steps=100, verbose=10, early_stopping=5,lr=0.001, optimizer=\"Adam\")"
   ]
  },
  {
   "cell_type": "code",
   "execution_count": 10,
   "metadata": {},
   "outputs": [
    {
     "data": {
      "image/png": "[encoded data removed]",
      "text/plain": [
       "<Figure size 432x288 with 1 Axes>"
      ]
     },
     "metadata": {
      "needs_background": "light"
     },
     "output_type": "display_data"
    }
   ],
   "source": [
    "plt.plot(np.arange(0,100),train_loss_SGD, label=\"SGD\")\n",
    "plt.plot(np.arange(0,100),train_loss_Adam, label=\"Adam\")\n",
    "plt.legend()\n",
    "plt.show()"
   ]
  },
  {
   "cell_type": "code",
   "execution_count": null,
   "metadata": {},
   "outputs": [],
   "source": []
  }
 ],
 "metadata": {
  "kernelspec": {
   "display_name": "matsui_env",
   "language": "python",
   "name": "matsui_env"
  },
  "language_info": {
   "codemirror_mode": {
    "name": "ipython",
    "version": 3
   },
   "file_extension": ".py",
   "mimetype": "text/x-python",
   "name": "python",
   "nbconvert_exporter": "python",
   "pygments_lexer": "ipython3",
   "version": "3.7.7"
  }
 },
 "nbformat": 4,
 "nbformat_minor": 4
}
