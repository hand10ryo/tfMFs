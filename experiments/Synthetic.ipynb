{
 "cells": [
  {
   "cell_type": "code",
   "execution_count": 1,
   "metadata": {},
   "outputs": [],
   "source": [
    "import sys\n",
    "sys.path.append(\"../\")\n",
    "from tfMFs.tfCMF import tfCMF\n",
    "from dataset import create_synthetic_data\n",
    "import numpy as np\n",
    "from scipy.sparse import csr_matrix\n",
    "import matplotlib.pyplot as plt"
   ]
  },
  {
   "cell_type": "code",
   "execution_count": 18,
   "metadata": {},
   "outputs": [],
   "source": [
    "X, y = create_synthetic_data(\n",
    "    num_pos_users=2000, \n",
    "    num_neg_users=2000, \n",
    "    num_random_words=10000,\n",
    "    lam=None, \n",
    "    shape=0.1, \n",
    "    scale=0.5\n",
    ")"
   ]
  },
  {
   "cell_type": "code",
   "execution_count": 20,
   "metadata": {},
   "outputs": [],
   "source": [
    "y = y[:,np.newaxis]"
   ]
  },
  {
   "cell_type": "code",
   "execution_count": 21,
   "metadata": {},
   "outputs": [],
   "source": [
    "train_data = X.A\n",
    "test_data = X.A"
   ]
  },
  {
   "cell_type": "code",
   "execution_count": 25,
   "metadata": {},
   "outputs": [],
   "source": [
    "cmf = tfCMF(y, alpha=0.7, d_hidden=10, lamda=1)"
   ]
  },
  {
   "cell_type": "code",
   "execution_count": 26,
   "metadata": {},
   "outputs": [
    {
     "name": "stdout",
     "output_type": "stream",
     "text": [
      "[Info] At time-step 0, test data rmse loss is -381178.625\n",
      "[Info] At time-step 10, test data rmse loss is -412136.40625\n",
      "[Info] At time-step 20, test data rmse loss is -412683.9375\n",
      "[Info] At time-step 30, test data rmse loss is -412863.65625\n",
      "[Info] At time-step 40, test data rmse loss is -412946.09375\n",
      "[Info] At time-step 50, test data rmse loss is -412994.8125\n",
      "[Info] At time-step 60, test data rmse loss is -413028.03125\n",
      "[Info] At time-step 70, test data rmse loss is -413052.71875\n",
      "[Info] At time-step 80, test data rmse loss is -413072.1875\n",
      "[Info] At time-step 90, test data rmse loss is -413088.125\n"
     ]
    }
   ],
   "source": [
    "U, V, Z, train_loss_SGD, _ = cmf.train(train_data, test_data, optim_steps=100, verbose=10, early_stopping=5, lr=0.001, optimizer=\"SGD\")"
   ]
  },
  {
   "cell_type": "code",
   "execution_count": null,
   "metadata": {},
   "outputs": [],
   "source": []
  },
  {
   "cell_type": "code",
   "execution_count": 27,
   "metadata": {},
   "outputs": [],
   "source": [
    "cmf = tfCMF(y, alpha=0.7, d_hidden=10, lamda=1)"
   ]
  },
  {
   "cell_type": "code",
   "execution_count": 28,
   "metadata": {},
   "outputs": [
    {
     "name": "stdout",
     "output_type": "stream",
     "text": [
      "[Info] At time-step 0, test data rmse loss is -381178.625\n",
      "[Info] At time-step 10, test data rmse loss is -388275.9375\n",
      "[Info] At time-step 20, test data rmse loss is -394152.0625\n",
      "[Info] At time-step 30, test data rmse loss is -398855.09375\n",
      "[Info] At time-step 40, test data rmse loss is -402473.09375\n",
      "[Info] At time-step 50, test data rmse loss is -405149.53125\n",
      "[Info] At time-step 60, test data rmse loss is -407068.4375\n",
      "[Info] At time-step 70, test data rmse loss is -408419.15625\n",
      "[Info] At time-step 80, test data rmse loss is -409364.4375\n",
      "[Info] At time-step 90, test data rmse loss is -410027.625\n"
     ]
    }
   ],
   "source": [
    "U, V, Z, train_loss_Adam, _ = cmf.train(train_data, test_data, optim_steps=100, verbose=10, early_stopping=5,lr=0.001, optimizer=\"Adam\")"
   ]
  },
  {
   "cell_type": "code",
   "execution_count": 29,
   "metadata": {},
   "outputs": [
    {
     "data": {
      "image/png": "[encoded data removed]",
      "text/plain": [
       "<Figure size 432x288 with 1 Axes>"
      ]
     },
     "metadata": {
      "needs_background": "light"
     },
     "output_type": "display_data"
    }
   ],
   "source": [
    "plt.plot(np.arange(0,100),train_loss_SGD, label=\"SGD\")\n",
    "plt.plot(np.arange(0,100),train_loss_Adam, label=\"Adam\")\n",
    "plt.legend()\n",
    "plt.show()"
   ]
  },
  {
   "cell_type": "code",
   "execution_count": null,
   "metadata": {},
   "outputs": [],
   "source": []
  }
 ],
 "metadata": {
  "kernelspec": {
   "display_name": "matsui_env",
   "language": "python",
   "name": "matsui_env"
  },
  "language_info": {
   "codemirror_mode": {
    "name": "ipython",
    "version": 3
   },
   "file_extension": ".py",
   "mimetype": "text/x-python",
   "name": "python",
   "nbconvert_exporter": "python",
   "pygments_lexer": "ipython3",
   "version": "3.7.7"
  }
 },
 "nbformat": 4,
 "nbformat_minor": 4
}
